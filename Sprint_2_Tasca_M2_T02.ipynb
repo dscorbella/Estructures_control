{
 "cells": [
  {
   "cell_type": "markdown",
   "id": "bd90302e",
   "metadata": {},
   "source": [
    "# Sprint 2 Tasca M2 T02\n",
    "## Ejercicio 1\n",
    "**El ejercicio consiste a crear un programa que te clasifique una variable numérica en función de la escala Suspenso/Aprobado/Notable/Excelente.**\n",
    "\n",
    "**Recuerda que Suspendido < 5, Aprobado > 5 y < 7, Notable > 7 y < 9 y Excelente > 9.**"
   ]
  },
  {
   "cell_type": "code",
   "execution_count": 47,
   "id": "e7f2ee89",
   "metadata": {
    "ExecuteTime": {
     "end_time": "2023-07-05T23:25:00.814763Z",
     "start_time": "2023-07-05T23:24:55.745352Z"
    }
   },
   "outputs": [
    {
     "name": "stdout",
     "output_type": "stream",
     "text": [
      "\n",
      "Que nota númerica sacaste?  8.8\n",
      "Notable\n"
     ]
    }
   ],
   "source": [
    "nota = float(input(\"\\nQue nota númerica sacaste?  \"))\n",
    "\n",
    "def tu_notas(nota):\n",
    "    if nota < 0 or nota > 10: \n",
    "        print(\"\\nError. Nota no valida.\")\n",
    "    \n",
    "    else:\n",
    "        if nota < 5: print(\"Suspenso\")\n",
    "        elif nota < 7: print(\"Aprobado\")\n",
    "        elif nota < 9: print(\"Notable\")\n",
    "        else: print(\"Excelente\")\n",
    "            \n",
    "tu_notas(nota)"
   ]
  },
  {
   "cell_type": "markdown",
   "id": "401ebc95",
   "metadata": {},
   "source": [
    "## Ejercicio 2\n",
    "**Utilizando el siguiente tutorial crea un programa que te pregunte dos números. Te tiene que mostrar un mensaje diciendo si el primero es más grande, el segundo es más grande o son iguales.**"
   ]
  },
  {
   "cell_type": "code",
   "execution_count": 48,
   "id": "4d473c35",
   "metadata": {
    "ExecuteTime": {
     "end_time": "2023-07-05T23:25:09.253999Z",
     "start_time": "2023-07-05T23:25:04.248954Z"
    }
   },
   "outputs": [
    {
     "name": "stdout",
     "output_type": "stream",
     "text": [
      "\n",
      "Cual será el primer número?  5\n",
      "Y ahora introduce el segundo:  8\n",
      "8 es mayor que 5\n"
     ]
    }
   ],
   "source": [
    "primero = int(input(\"\\nCual será el primer número?  \"))\n",
    "segundo = int(input(\"Y ahora introduce el segundo:  \"))\n",
    "\n",
    "def compara(primero, segundo):\n",
    "    if primero > segundo: print(primero, \"es mayor que\", segundo)\n",
    "    elif primero < segundo: print(segundo, \"es mayor que\", primero)\n",
    "    else: print(\"Son iguales.\")\n",
    "        \n",
    "compara(primero, segundo)"
   ]
  },
  {
   "cell_type": "markdown",
   "id": "eb34b203",
   "metadata": {},
   "source": [
    "## Ejercicio 3\n",
    "**Crea un programa que te pregunte tu nombre, y te pida un número. Si el número es 0, tendría que mostrar un mensaje de error. En caso contrario, tendría que mostrar el nombre repetido tantos veces como indique el número. Por ejemplo, “Joan Joan Joan”.**"
   ]
  },
  {
   "cell_type": "code",
   "execution_count": 49,
   "id": "319fcba8",
   "metadata": {
    "ExecuteTime": {
     "end_time": "2023-07-05T23:25:17.436408Z",
     "start_time": "2023-07-05T23:25:12.360200Z"
    }
   },
   "outputs": [
    {
     "name": "stdout",
     "output_type": "stream",
     "text": [
      "\n",
      "¿Cual es tu nombre?  David\n",
      "¿Que número elegiste?  3\n",
      "David David David \n"
     ]
    }
   ],
   "source": [
    "nombre = input(\"\\n¿Cual es tu nombre?  \")\n",
    "numero = int(input(\"¿Que número elegiste?  \"))\n",
    "\n",
    "def pintar_nombre(nombre, n):\n",
    "    if numero < 1: print(\"Error. Tienes que elegir un número mayor que 0\")\n",
    "    else: print((nombre + \" \") * n)\n",
    "\n",
    "pintar_nombre(nombre, numero)"
   ]
  },
  {
   "cell_type": "markdown",
   "id": "bd086a6a",
   "metadata": {},
   "source": [
    "## Ejercicio 4\n",
    "**Crea un programa que dada una lista cualquiera, te diga si es simétrica o no. Si lo es, que te diga cuántos elementos tiene.**"
   ]
  },
  {
   "cell_type": "code",
   "execution_count": 50,
   "id": "2ba46d81",
   "metadata": {
    "ExecuteTime": {
     "end_time": "2023-07-05T23:25:28.408207Z",
     "start_time": "2023-07-05T23:25:19.729310Z"
    }
   },
   "outputs": [
    {
     "name": "stdout",
     "output_type": "stream",
     "text": [
      "\n",
      "Cuantos valores va a tener la lista?  5\n",
      "Cual será el siguiente valor?  0\n",
      "Cual será el siguiente valor?  1\n",
      "Cual será el siguiente valor?  2\n",
      "Cual será el siguiente valor?  1\n",
      "Cual será el siguiente valor?  0\n",
      "\n",
      "Esta lista es simetrica y tiene 5 elementos\n"
     ]
    }
   ],
   "source": [
    "tamaño_lista = int(input(\"\\nCuantos valores va a tener la lista?  \"))\n",
    "lista = []\n",
    "\n",
    "for n in range(tamaño_lista):\n",
    "    lista.append(int(input(\"Cual será el siguiente valor?  \" )))\n",
    "\n",
    "def simetria(lista):\n",
    "    if len(lista) == 0: print(\"\\nEsta lista está vacía.\")\n",
    "    elif lista == lista[::-1]: print(\"\\nEsta lista es simetrica y tiene\", len(lista), \"elementos\")\n",
    "    else: print(\"\\nEsta lista no es simétrica.\")\n",
    "\n",
    "simetria(lista) "
   ]
  },
  {
   "cell_type": "markdown",
   "id": "cd9fab09",
   "metadata": {},
   "source": [
    "## Ejercicio 5\n",
    "**Crea un programa que dada una lista, te diga cuántos números coinciden con su posición. Por ejemplo [3,4,2,0,2,3,6] el 2 y el 6 coinciden.**"
   ]
  },
  {
   "cell_type": "code",
   "execution_count": 51,
   "id": "ca5d1378",
   "metadata": {
    "ExecuteTime": {
     "end_time": "2023-07-05T23:25:42.722903Z",
     "start_time": "2023-07-05T23:25:35.128915Z"
    }
   },
   "outputs": [
    {
     "name": "stdout",
     "output_type": "stream",
     "text": [
      "\n",
      "Cuantos valores va a tener la lista?  5\n",
      "Cual será el siguiente valor?  0\n",
      "Cual será el siguiente valor?  1\n",
      "Cual será el siguiente valor?  2\n",
      "Cual será el siguiente valor?  4\n",
      "Cual será el siguiente valor?  5\n",
      "\n",
      "Los números que coinciden son: 0, 1 y 2\n"
     ]
    }
   ],
   "source": [
    "rango_lista = int(input(\"\\nCuantos valores va a tener la lista?  \"))\n",
    "lista = []\n",
    "\n",
    "for n in range(rango_lista):\n",
    "    lista.append(int(input(\"Cual será el siguiente valor?  \" )))\n",
    "\n",
    "def valores_coincidentes(lista):\n",
    "    coincidencia = []\n",
    "    for i in range(len(lista)):    \n",
    "        if i == lista[i]: coincidencia.append(i)\n",
    "    return(coincidencia)\n",
    "\n",
    "resultado = valores_coincidentes(lista)\n",
    "\n",
    "if len(resultado) == 0: print(\"\\nNo hay coincidencias.\")\n",
    "elif len(resultado) ==1: print(\"\\nSolo coincide el número: \" + str(resultado[0]))\n",
    "else:\n",
    "    maqueado = [str(x) for x in resultado[:-1]]\n",
    "    resultado = \", \".join(maqueado) + \" y \" + str(resultado[-1])\n",
    "    print(\"\\nLos números que coinciden son:\", resultado)"
   ]
  }
 ],
 "metadata": {
  "hide_input": false,
  "kernelspec": {
   "display_name": "Python 3 (ipykernel)",
   "language": "python",
   "name": "python3"
  },
  "language_info": {
   "codemirror_mode": {
    "name": "ipython",
    "version": 3
   },
   "file_extension": ".py",
   "mimetype": "text/x-python",
   "name": "python",
   "nbconvert_exporter": "python",
   "pygments_lexer": "ipython3",
   "version": "3.9.16"
  },
  "nbTranslate": {
   "displayLangs": [
    "*"
   ],
   "hotkey": "alt-t",
   "langInMainMenu": true,
   "sourceLang": "en",
   "targetLang": "fr",
   "useGoogleTranslate": true
  },
  "toc": {
   "base_numbering": 1,
   "nav_menu": {},
   "number_sections": true,
   "sideBar": true,
   "skip_h1_title": false,
   "title_cell": "Table of Contents",
   "title_sidebar": "Contents",
   "toc_cell": false,
   "toc_position": {},
   "toc_section_display": true,
   "toc_window_display": false
  },
  "varInspector": {
   "cols": {
    "lenName": 16,
    "lenType": 16,
    "lenVar": 40
   },
   "kernels_config": {
    "python": {
     "delete_cmd_postfix": "",
     "delete_cmd_prefix": "del ",
     "library": "var_list.py",
     "varRefreshCmd": "print(var_dic_list())"
    },
    "r": {
     "delete_cmd_postfix": ") ",
     "delete_cmd_prefix": "rm(",
     "library": "var_list.r",
     "varRefreshCmd": "cat(var_dic_list()) "
    }
   },
   "types_to_exclude": [
    "module",
    "function",
    "builtin_function_or_method",
    "instance",
    "_Feature"
   ],
   "window_display": false
  }
 },
 "nbformat": 4,
 "nbformat_minor": 5
}
