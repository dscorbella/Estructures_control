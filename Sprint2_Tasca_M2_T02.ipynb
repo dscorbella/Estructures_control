{
 "cells": [
  {
   "cell_type": "markdown",
   "id": "bd90302e",
   "metadata": {},
   "source": [
    "# Sprint 2 Tasca M2 T02\n",
    "## Ejercicio 1\n",
    "**El ejercicio consiste a crear un programa que te clasifique una variable numérica en función de la escala Suspenso/Aprobado/Notable/Excelente.**\n",
    "\n",
    "**Recuerda que Suspendido < 5, Aprobado > 5 y < 7, Notable > 7 y < 9 y Excelente > 9.**"
   ]
  },
  {
   "cell_type": "code",
   "execution_count": 3,
   "id": "e7f2ee89",
   "metadata": {
    "ExecuteTime": {
     "end_time": "2023-06-28T09:51:23.977359Z",
     "start_time": "2023-06-28T09:51:18.848049Z"
    }
   },
   "outputs": [
    {
     "name": "stdout",
     "output_type": "stream",
     "text": [
      "Que nota númerica sacaste?  -6\n",
      "Creo que te equivocaste al introducir la nota, recuerda que tiene que estar entre 0  y 10\n"
     ]
    }
   ],
   "source": [
    "nota = float(input(\"\\nQue nota númerica sacaste?  \"))\n",
    "\n",
    "if nota < 0 or nota > 10: \n",
    "    print(\"\\nCreo que te equivocaste al introducir la nota, recuerda que tiene que estar entre 0  y 10\")\n",
    "    \n",
    "else:\n",
    "    print(\"\\nEso corresponde a un\", end = \" \")\n",
    "    if nota < 5: print(\"Suspenso. Deberías estudiar más!!!\")\n",
    "    elif nota < 7: print(\"Aprobado. De buena te has librado!!!\")\n",
    "    elif nota < 9: print(\"Notable. Buen trabajo!!!\")\n",
    "    else: print(\"Excelente. FELICIDADES!!!\")"
   ]
  },
  {
   "cell_type": "markdown",
   "id": "401ebc95",
   "metadata": {},
   "source": [
    "## Ejercicio 2\n",
    "**Utilizando el siguiente tutorial crea un programa que te pregunte dos números. Te tiene que mostrar un mensaje diciendo si lo primero es más grande, el segundo es más grande o son iguales.**"
   ]
  },
  {
   "cell_type": "code",
   "execution_count": 6,
   "id": "4d473c35",
   "metadata": {
    "ExecuteTime": {
     "end_time": "2023-06-28T09:52:35.589311Z",
     "start_time": "2023-06-28T09:52:33.767240Z"
    }
   },
   "outputs": [
    {
     "name": "stdout",
     "output_type": "stream",
     "text": [
      "\n",
      "Cual será el primer número?  3\n",
      "Y ahora introduce el segundo:  3\n",
      "\n",
      "Son iguales.\n"
     ]
    }
   ],
   "source": [
    "primero = int(input(\"\\nCual será el primer número?  \"))\n",
    "segundo = int(input(\"Y ahora introduce el segundo:  \"))\n",
    "\n",
    "print(\"\")\n",
    "\n",
    "if primero > segundo: print(primero, \"es mayor que\", segundo)\n",
    "elif primero < segundo: print(primero, \"es menor que\", segundo)\n",
    "else: print(\"Son iguales.\")"
   ]
  },
  {
   "cell_type": "markdown",
   "id": "eb34b203",
   "metadata": {},
   "source": [
    "## Ejercicio 3\n",
    "**Crea un programa que te pregunte tu nombre, y te pida un número. Si el número es 0, tendría que mostrar un mensaje de error. En caso contrario, tendría que mostrar el nombre repetido tantos veces como indique el número. Por ejemplo, “Joan Joan Joan”.**"
   ]
  },
  {
   "cell_type": "code",
   "execution_count": 8,
   "id": "319fcba8",
   "metadata": {
    "ExecuteTime": {
     "end_time": "2023-06-28T09:53:47.222361Z",
     "start_time": "2023-06-28T09:53:37.643983Z"
    }
   },
   "outputs": [
    {
     "name": "stdout",
     "output_type": "stream",
     "text": [
      "\n",
      "¿Cual es tu nombre?  David\n",
      "¿Que número elegiste?  0\n",
      "\n",
      "Error 42. Tienes que elegir un número mayor que 0\n",
      "\n"
     ]
    }
   ],
   "source": [
    "nombre = input(\"\\n¿Cual es tu nombre?  \")\n",
    "numero = int(input(\"¿Que número elegiste?  \"))\n",
    "\n",
    "print(\"\")\n",
    "if numero < 1: print(\"Error 42. Tienes que elegir un número mayor que 0\")\n",
    "else: \n",
    "    for i in range(numero):\n",
    "        print(nombre, end = \" \")\n",
    "print(\"\")"
   ]
  },
  {
   "cell_type": "markdown",
   "id": "bd086a6a",
   "metadata": {},
   "source": [
    "## Ejercicio 4\n",
    "**Crea un programa que dada una lista cualquiera, te diga si es simétrica o no. Si lo es, que te diga cuántos elementos tiene.**"
   ]
  },
  {
   "cell_type": "code",
   "execution_count": 11,
   "id": "2ba46d81",
   "metadata": {
    "ExecuteTime": {
     "end_time": "2023-06-28T09:55:15.670282Z",
     "start_time": "2023-06-28T09:55:06.070721Z"
    }
   },
   "outputs": [
    {
     "name": "stdout",
     "output_type": "stream",
     "text": [
      "\n",
      "Cuantos valores va a tener la lista?  6\n",
      "\n",
      "Cual será el siguiente valor?  0\n",
      "Cual será el siguiente valor?  1\n",
      "Cual será el siguiente valor?  2\n",
      "Cual será el siguiente valor?  2\n",
      "Cual será el siguiente valor?  1\n",
      "Cual será el siguiente valor?  0\n",
      "\n",
      "Esta lista es simétrica, y tiene 6 elementos.\n"
     ]
    }
   ],
   "source": [
    "tamaño_lista = int(input(\"\\nCuantos valores va a tener la lista?  \"))\n",
    "\n",
    "lista = []\n",
    "print(\"\")\n",
    "for n in range(tamaño_lista):\n",
    "    lista.append(int(input(\"Cual será el siguiente valor?  \" )))\n",
    "\n",
    "if len(lista) == 0: print(\"\\nEsta lista está vacía.\")\n",
    "elif tamaño_lista == 1: print(\"\\nEsta lista es simetrica y tiene un único elemento\")\n",
    "else:\n",
    "    for i in range((tamaño_lista)//2):\n",
    "        if lista[i] != lista[tamaño_lista - 1 - i]:\n",
    "            print(\"\\nEsta lista no es simétrica.\")\n",
    "            break\n",
    "    \n",
    "    else: print(\"\\nEsta lista es simétrica, y tiene\", tamaño_lista, \"elementos.\")"
   ]
  },
  {
   "cell_type": "markdown",
   "id": "cd9fab09",
   "metadata": {},
   "source": [
    "## Ejercicio 5\n",
    "**Crea un programa que dada una lista, te diga cuántos números coinciden con su posición. Por ejemplo [3,4,2,0,2,3,6] el 2 y el 6 coinciden.**"
   ]
  },
  {
   "cell_type": "code",
   "execution_count": 12,
   "id": "ca5d1378",
   "metadata": {
    "ExecuteTime": {
     "end_time": "2023-06-28T09:57:04.296471Z",
     "start_time": "2023-06-28T09:56:53.523612Z"
    }
   },
   "outputs": [
    {
     "name": "stdout",
     "output_type": "stream",
     "text": [
      "\n",
      "Cuantos valores va a tener la lista?  5\n",
      "\n",
      "Cual será el siguiente valor?  0\n",
      "Cual será el siguiente valor?  1\n",
      "Cual será el siguiente valor?  3\n",
      "Cual será el siguiente valor?  3\n",
      "Cual será el siguiente valor?  4\n",
      "\n",
      "Los números que coinciden son: 0, 1, 3 y 4.\n"
     ]
    }
   ],
   "source": [
    "rango_lista = int(input(\"\\nCuantos valores va a tener la lista?  \"))\n",
    "\n",
    "lista = []\n",
    "print(\"\")\n",
    "for n in range(rango_lista):\n",
    "    lista.append(int(input(\"Cual será el siguiente valor?  \" )))\n",
    "\n",
    "coincidencia = []\n",
    "if len(lista) == 0: print(\"\\nEsta lista está vacía.\")\n",
    "else:\n",
    "    for i in range(len(lista)):    \n",
    "        if i == lista[i]: coincidencia.append(i)\n",
    "    \n",
    "    if len(coincidencia) == 0: print(\"\\nNo hay coincidencias.\")\n",
    "    elif len(coincidencia) ==1: print(\"\\nSolo coincide el\", coincidencia[0])\n",
    "    else:\n",
    "        print(\"\\nLos números que coinciden son:\", end = \" \")\n",
    "        for k in range(len(coincidencia)):\n",
    "            print(coincidencia[k], end = \"\")\n",
    "            if k + 2 < len(coincidencia): print(\",\", end = \" \")\n",
    "            elif k + 2 == len(coincidencia): print(\" y\", end = \" \")\n",
    "            else: print(\".\")"
   ]
  }
 ],
 "metadata": {
  "hide_input": false,
  "kernelspec": {
   "display_name": "Python 3 (ipykernel)",
   "language": "python",
   "name": "python3"
  },
  "language_info": {
   "codemirror_mode": {
    "name": "ipython",
    "version": 3
   },
   "file_extension": ".py",
   "mimetype": "text/x-python",
   "name": "python",
   "nbconvert_exporter": "python",
   "pygments_lexer": "ipython3",
   "version": "3.9.13"
  },
  "nbTranslate": {
   "displayLangs": [
    "*"
   ],
   "hotkey": "alt-t",
   "langInMainMenu": true,
   "sourceLang": "en",
   "targetLang": "fr",
   "useGoogleTranslate": true
  },
  "toc": {
   "base_numbering": 1,
   "nav_menu": {},
   "number_sections": true,
   "sideBar": true,
   "skip_h1_title": false,
   "title_cell": "Table of Contents",
   "title_sidebar": "Contents",
   "toc_cell": false,
   "toc_position": {},
   "toc_section_display": true,
   "toc_window_display": false
  },
  "varInspector": {
   "cols": {
    "lenName": 16,
    "lenType": 16,
    "lenVar": 40
   },
   "kernels_config": {
    "python": {
     "delete_cmd_postfix": "",
     "delete_cmd_prefix": "del ",
     "library": "var_list.py",
     "varRefreshCmd": "print(var_dic_list())"
    },
    "r": {
     "delete_cmd_postfix": ") ",
     "delete_cmd_prefix": "rm(",
     "library": "var_list.r",
     "varRefreshCmd": "cat(var_dic_list()) "
    }
   },
   "types_to_exclude": [
    "module",
    "function",
    "builtin_function_or_method",
    "instance",
    "_Feature"
   ],
   "window_display": false
  }
 },
 "nbformat": 4,
 "nbformat_minor": 5
}
